{
 "cells": [
  {
   "cell_type": "code",
   "execution_count": 1,
   "metadata": {},
   "outputs": [],
   "source": [
    "# import dependencies\n",
    "import pandas as pd\n",
    "import matplotlib.pyplot as plt\n",
    "import numpy as np\n",
    "from scipy.stats import linregress\n",
    "import numpy as np\n",
    "%matplotlib inline\n"
   ]
  },
  {
   "cell_type": "code",
   "execution_count": 2,
   "metadata": {},
   "outputs": [
    {
     "data": {
      "text/html": [
       "<div>\n",
       "<style scoped>\n",
       "    .dataframe tbody tr th:only-of-type {\n",
       "        vertical-align: middle;\n",
       "    }\n",
       "\n",
       "    .dataframe tbody tr th {\n",
       "        vertical-align: top;\n",
       "    }\n",
       "\n",
       "    .dataframe thead th {\n",
       "        text-align: right;\n",
       "    }\n",
       "</style>\n",
       "<table border=\"1\" class=\"dataframe\">\n",
       "  <thead>\n",
       "    <tr style=\"text-align: right;\">\n",
       "      <th></th>\n",
       "      <th>RACE_HISP</th>\n",
       "      <th>SEX</th>\n",
       "      <th>YEAR</th>\n",
       "      <th>TOTAL_NIM</th>\n",
       "      <th>NIM_0</th>\n",
       "      <th>NIM_1</th>\n",
       "      <th>NIM_2</th>\n",
       "      <th>NIM_3</th>\n",
       "      <th>NIM_4</th>\n",
       "      <th>NIM_5</th>\n",
       "      <th>...</th>\n",
       "      <th>NIM_76</th>\n",
       "      <th>NIM_77</th>\n",
       "      <th>NIM_78</th>\n",
       "      <th>NIM_79</th>\n",
       "      <th>NIM_80</th>\n",
       "      <th>NIM_81</th>\n",
       "      <th>NIM_82</th>\n",
       "      <th>NIM_83</th>\n",
       "      <th>NIM_84</th>\n",
       "      <th>NIM_85</th>\n",
       "    </tr>\n",
       "  </thead>\n",
       "  <tbody>\n",
       "    <tr>\n",
       "      <th>1315</th>\n",
       "      <td>9</td>\n",
       "      <td>2</td>\n",
       "      <td>2056</td>\n",
       "      <td>110859</td>\n",
       "      <td>2189</td>\n",
       "      <td>1969</td>\n",
       "      <td>1828</td>\n",
       "      <td>1632</td>\n",
       "      <td>1363</td>\n",
       "      <td>1201</td>\n",
       "      <td>...</td>\n",
       "      <td>-160</td>\n",
       "      <td>-131</td>\n",
       "      <td>-111</td>\n",
       "      <td>-96</td>\n",
       "      <td>-114</td>\n",
       "      <td>-167</td>\n",
       "      <td>-241</td>\n",
       "      <td>-332</td>\n",
       "      <td>-428</td>\n",
       "      <td>-4881</td>\n",
       "    </tr>\n",
       "    <tr>\n",
       "      <th>1316</th>\n",
       "      <td>9</td>\n",
       "      <td>2</td>\n",
       "      <td>2057</td>\n",
       "      <td>111134</td>\n",
       "      <td>2199</td>\n",
       "      <td>1979</td>\n",
       "      <td>1838</td>\n",
       "      <td>1640</td>\n",
       "      <td>1370</td>\n",
       "      <td>1208</td>\n",
       "      <td>...</td>\n",
       "      <td>-162</td>\n",
       "      <td>-146</td>\n",
       "      <td>-119</td>\n",
       "      <td>-103</td>\n",
       "      <td>-124</td>\n",
       "      <td>-165</td>\n",
       "      <td>-254</td>\n",
       "      <td>-333</td>\n",
       "      <td>-415</td>\n",
       "      <td>-4913</td>\n",
       "    </tr>\n",
       "    <tr>\n",
       "      <th>1317</th>\n",
       "      <td>9</td>\n",
       "      <td>2</td>\n",
       "      <td>2058</td>\n",
       "      <td>111405</td>\n",
       "      <td>2207</td>\n",
       "      <td>1987</td>\n",
       "      <td>1845</td>\n",
       "      <td>1647</td>\n",
       "      <td>1377</td>\n",
       "      <td>1213</td>\n",
       "      <td>...</td>\n",
       "      <td>-166</td>\n",
       "      <td>-146</td>\n",
       "      <td>-131</td>\n",
       "      <td>-109</td>\n",
       "      <td>-129</td>\n",
       "      <td>-175</td>\n",
       "      <td>-251</td>\n",
       "      <td>-350</td>\n",
       "      <td>-416</td>\n",
       "      <td>-4923</td>\n",
       "    </tr>\n",
       "    <tr>\n",
       "      <th>1318</th>\n",
       "      <td>9</td>\n",
       "      <td>2</td>\n",
       "      <td>2059</td>\n",
       "      <td>111663</td>\n",
       "      <td>2217</td>\n",
       "      <td>1997</td>\n",
       "      <td>1854</td>\n",
       "      <td>1655</td>\n",
       "      <td>1382</td>\n",
       "      <td>1218</td>\n",
       "      <td>...</td>\n",
       "      <td>-169</td>\n",
       "      <td>-151</td>\n",
       "      <td>-131</td>\n",
       "      <td>-122</td>\n",
       "      <td>-137</td>\n",
       "      <td>-182</td>\n",
       "      <td>-264</td>\n",
       "      <td>-347</td>\n",
       "      <td>-434</td>\n",
       "      <td>-4936</td>\n",
       "    </tr>\n",
       "    <tr>\n",
       "      <th>1319</th>\n",
       "      <td>9</td>\n",
       "      <td>2</td>\n",
       "      <td>2060</td>\n",
       "      <td>111915</td>\n",
       "      <td>2225</td>\n",
       "      <td>2005</td>\n",
       "      <td>1861</td>\n",
       "      <td>1662</td>\n",
       "      <td>1387</td>\n",
       "      <td>1223</td>\n",
       "      <td>...</td>\n",
       "      <td>-166</td>\n",
       "      <td>-154</td>\n",
       "      <td>-134</td>\n",
       "      <td>-125</td>\n",
       "      <td>-149</td>\n",
       "      <td>-190</td>\n",
       "      <td>-272</td>\n",
       "      <td>-364</td>\n",
       "      <td>-431</td>\n",
       "      <td>-4965</td>\n",
       "    </tr>\n",
       "  </tbody>\n",
       "</table>\n",
       "<p>5 rows × 90 columns</p>\n",
       "</div>"
      ],
      "text/plain": [
       "      RACE_HISP  SEX  YEAR  TOTAL_NIM  NIM_0  NIM_1  NIM_2  NIM_3  NIM_4  \\\n",
       "1315          9    2  2056     110859   2189   1969   1828   1632   1363   \n",
       "1316          9    2  2057     111134   2199   1979   1838   1640   1370   \n",
       "1317          9    2  2058     111405   2207   1987   1845   1647   1377   \n",
       "1318          9    2  2059     111663   2217   1997   1854   1655   1382   \n",
       "1319          9    2  2060     111915   2225   2005   1861   1662   1387   \n",
       "\n",
       "      NIM_5  ...  NIM_76  NIM_77  NIM_78  NIM_79  NIM_80  NIM_81  NIM_82  \\\n",
       "1315   1201  ...    -160    -131    -111     -96    -114    -167    -241   \n",
       "1316   1208  ...    -162    -146    -119    -103    -124    -165    -254   \n",
       "1317   1213  ...    -166    -146    -131    -109    -129    -175    -251   \n",
       "1318   1218  ...    -169    -151    -131    -122    -137    -182    -264   \n",
       "1319   1223  ...    -166    -154    -134    -125    -149    -190    -272   \n",
       "\n",
       "      NIM_83  NIM_84  NIM_85  \n",
       "1315    -332    -428   -4881  \n",
       "1316    -333    -415   -4913  \n",
       "1317    -350    -416   -4923  \n",
       "1318    -347    -434   -4936  \n",
       "1319    -364    -431   -4965  \n",
       "\n",
       "[5 rows x 90 columns]"
      ]
     },
     "execution_count": 2,
     "metadata": {},
     "output_type": "execute_result"
    }
   ],
   "source": [
    "# import Net Immigration Migration (NIM) data\n",
    "nim_long_df = pd.read_csv(\"nim_data_2017_2060.csv\")\n",
    "\n",
    "# display data\n",
    "nim_long_df.tail()"
   ]
  },
  {
   "cell_type": "code",
   "execution_count": 3,
   "metadata": {},
   "outputs": [
    {
     "data": {
      "text/html": [
       "<div>\n",
       "<style scoped>\n",
       "    .dataframe tbody tr th:only-of-type {\n",
       "        vertical-align: middle;\n",
       "    }\n",
       "\n",
       "    .dataframe tbody tr th {\n",
       "        vertical-align: top;\n",
       "    }\n",
       "\n",
       "    .dataframe thead th {\n",
       "        text-align: right;\n",
       "    }\n",
       "</style>\n",
       "<table border=\"1\" class=\"dataframe\">\n",
       "  <thead>\n",
       "    <tr style=\"text-align: right;\">\n",
       "      <th></th>\n",
       "      <th>RACE_HISP</th>\n",
       "      <th>SEX</th>\n",
       "      <th>YEAR</th>\n",
       "      <th>TOTAL_NIM</th>\n",
       "    </tr>\n",
       "  </thead>\n",
       "  <tbody>\n",
       "    <tr>\n",
       "      <th>1315</th>\n",
       "      <td>9</td>\n",
       "      <td>2</td>\n",
       "      <td>2056</td>\n",
       "      <td>110859</td>\n",
       "    </tr>\n",
       "    <tr>\n",
       "      <th>1316</th>\n",
       "      <td>9</td>\n",
       "      <td>2</td>\n",
       "      <td>2057</td>\n",
       "      <td>111134</td>\n",
       "    </tr>\n",
       "    <tr>\n",
       "      <th>1317</th>\n",
       "      <td>9</td>\n",
       "      <td>2</td>\n",
       "      <td>2058</td>\n",
       "      <td>111405</td>\n",
       "    </tr>\n",
       "    <tr>\n",
       "      <th>1318</th>\n",
       "      <td>9</td>\n",
       "      <td>2</td>\n",
       "      <td>2059</td>\n",
       "      <td>111663</td>\n",
       "    </tr>\n",
       "    <tr>\n",
       "      <th>1319</th>\n",
       "      <td>9</td>\n",
       "      <td>2</td>\n",
       "      <td>2060</td>\n",
       "      <td>111915</td>\n",
       "    </tr>\n",
       "  </tbody>\n",
       "</table>\n",
       "</div>"
      ],
      "text/plain": [
       "      RACE_HISP  SEX  YEAR  TOTAL_NIM\n",
       "1315          9    2  2056     110859\n",
       "1316          9    2  2057     111134\n",
       "1317          9    2  2058     111405\n",
       "1318          9    2  2059     111663\n",
       "1319          9    2  2060     111915"
      ]
     },
     "execution_count": 3,
     "metadata": {},
     "output_type": "execute_result"
    }
   ],
   "source": [
    "# remove unnecessary columns\n",
    "nim_long_df = nim_long_df[['RACE_HISP','SEX','YEAR','TOTAL_NIM']]\n",
    "nim_long_df.tail()"
   ]
  },
  {
   "cell_type": "code",
   "execution_count": 4,
   "metadata": {},
   "outputs": [
    {
     "data": {
      "text/html": [
       "<div>\n",
       "<style scoped>\n",
       "    .dataframe tbody tr th:only-of-type {\n",
       "        vertical-align: middle;\n",
       "    }\n",
       "\n",
       "    .dataframe tbody tr th {\n",
       "        vertical-align: top;\n",
       "    }\n",
       "\n",
       "    .dataframe thead th {\n",
       "        text-align: right;\n",
       "    }\n",
       "</style>\n",
       "<table border=\"1\" class=\"dataframe\">\n",
       "  <thead>\n",
       "    <tr style=\"text-align: right;\">\n",
       "      <th></th>\n",
       "      <th>RACE_HISP</th>\n",
       "      <th>SEX</th>\n",
       "      <th>YEAR</th>\n",
       "      <th>TOTAL_NIM</th>\n",
       "    </tr>\n",
       "  </thead>\n",
       "  <tbody>\n",
       "    <tr>\n",
       "      <th>0</th>\n",
       "      <td>0</td>\n",
       "      <td>0</td>\n",
       "      <td>2017</td>\n",
       "      <td>996800</td>\n",
       "    </tr>\n",
       "    <tr>\n",
       "      <th>1</th>\n",
       "      <td>0</td>\n",
       "      <td>0</td>\n",
       "      <td>2018</td>\n",
       "      <td>1001528</td>\n",
       "    </tr>\n",
       "    <tr>\n",
       "      <th>2</th>\n",
       "      <td>0</td>\n",
       "      <td>0</td>\n",
       "      <td>2019</td>\n",
       "      <td>1005801</td>\n",
       "    </tr>\n",
       "    <tr>\n",
       "      <th>3</th>\n",
       "      <td>0</td>\n",
       "      <td>0</td>\n",
       "      <td>2020</td>\n",
       "      <td>1009861</td>\n",
       "    </tr>\n",
       "    <tr>\n",
       "      <th>4</th>\n",
       "      <td>0</td>\n",
       "      <td>0</td>\n",
       "      <td>2021</td>\n",
       "      <td>1013839</td>\n",
       "    </tr>\n",
       "  </tbody>\n",
       "</table>\n",
       "</div>"
      ],
      "text/plain": [
       "   RACE_HISP  SEX  YEAR  TOTAL_NIM\n",
       "0          0    0  2017     996800\n",
       "1          0    0  2018    1001528\n",
       "2          0    0  2019    1005801\n",
       "3          0    0  2020    1009861\n",
       "4          0    0  2021    1013839"
      ]
     },
     "execution_count": 4,
     "metadata": {},
     "output_type": "execute_result"
    }
   ],
   "source": [
    "# filter data to show total NIM data for both males and females together. In census NIM dataset, \n",
    "# sex == 0 is for both sexes. sex == 1 is for males and sex == 2 is for females.\n",
    "nim_short_df = nim_long_df.loc[(nim_long_df['RACE_HISP'] == 0) & (nim_long_df['SEX'] == 0),:]\n",
    "nim_short_df.head()"
   ]
  },
  {
   "cell_type": "code",
   "execution_count": 5,
   "metadata": {},
   "outputs": [
    {
     "data": {
      "text/plain": [
       "[<matplotlib.lines.Line2D at 0x1a18bd7550>]"
      ]
     },
     "execution_count": 5,
     "metadata": {},
     "output_type": "execute_result"
    },
    {
     "data": {
      "image/png": "[encoded data removed]",
      "text/plain": [
       "<Figure size 432x288 with 1 Axes>"
      ]
     },
     "metadata": {
      "needs_background": "light"
     },
     "output_type": "display_data"
    }
   ],
   "source": [
    "# assign x and y values to prepare to plot graph\n",
    "year = nim_short_df['YEAR']\n",
    "nim = nim_short_df['TOTAL_NIM']\n",
    "\n",
    "# plot data using line graph\n",
    "ax, fig = plt.subplots()\n",
    "plt.plot(year, nim)\n",
    "#tick_locations = np.arange(len(year))\n",
    "#plt.xticks(tick_locations, nim_short_df['YEAR'], rotation=90)\n"
   ]
  },
  {
   "cell_type": "code",
   "execution_count": 6,
   "metadata": {},
   "outputs": [
    {
     "name": "stdout",
     "output_type": "stream",
     "text": [
      "The r-squared is: 0.936023542745225\n"
     ]
    },
    {
     "data": {
      "image/png": "[encoded data removed]",
      "text/plain": [
       "<Figure size 432x288 with 1 Axes>"
      ]
     },
     "metadata": {
      "needs_background": "light"
     },
     "output_type": "display_data"
    }
   ],
   "source": [
    "# Add the linear regression equation and line to plot\n",
    "(slope, intercept, rvalue, pvalue, stderr) = linregress(year, nim)\n",
    "regress_values = year * slope + intercept\n",
    "line_eq = \"y = \" + str(round(slope,2)) + \"x + \" + str(round(intercept,2))\n",
    "plt.plot(year, nim)\n",
    "plt.plot(year,regress_values,\"r-\")\n",
    "plt.annotate(line_eq,(2030,1080000),fontsize=15,color=\"red\")\n",
    "plt.xlabel('Year')\n",
    "plt.ylabel('Net International Migration')\n",
    "plt.title('Projected Net Immigration Migration in the USA from 2017 to 2060')\n",
    "print(f\"The r-squared is: {rvalue}\")\n",
    "\n",
    "# show plot\n",
    "plt.show()"
   ]
  },
  {
   "cell_type": "code",
   "execution_count": 22,
   "metadata": {},
   "outputs": [
    {
     "data": {
      "text/html": [
       "<div>\n",
       "<style scoped>\n",
       "    .dataframe tbody tr th:only-of-type {\n",
       "        vertical-align: middle;\n",
       "    }\n",
       "\n",
       "    .dataframe tbody tr th {\n",
       "        vertical-align: top;\n",
       "    }\n",
       "\n",
       "    .dataframe thead th {\n",
       "        text-align: right;\n",
       "    }\n",
       "</style>\n",
       "<table border=\"1\" class=\"dataframe\">\n",
       "  <thead>\n",
       "    <tr style=\"text-align: right;\">\n",
       "      <th></th>\n",
       "      <th>RACE_HISP</th>\n",
       "      <th>SEX</th>\n",
       "      <th>YEAR</th>\n",
       "      <th>TOTAL_NIM</th>\n",
       "      <th>NIM_LOW</th>\n",
       "    </tr>\n",
       "  </thead>\n",
       "  <tbody>\n",
       "    <tr>\n",
       "      <th>0</th>\n",
       "      <td>0</td>\n",
       "      <td>0</td>\n",
       "      <td>2017</td>\n",
       "      <td>996800</td>\n",
       "      <td>996800</td>\n",
       "    </tr>\n",
       "    <tr>\n",
       "      <th>1</th>\n",
       "      <td>0</td>\n",
       "      <td>0</td>\n",
       "      <td>2018</td>\n",
       "      <td>1001528</td>\n",
       "      <td>1001528</td>\n",
       "    </tr>\n",
       "    <tr>\n",
       "      <th>2</th>\n",
       "      <td>0</td>\n",
       "      <td>0</td>\n",
       "      <td>2019</td>\n",
       "      <td>1005801</td>\n",
       "      <td>595348</td>\n",
       "    </tr>\n",
       "    <tr>\n",
       "      <th>3</th>\n",
       "      <td>0</td>\n",
       "      <td>0</td>\n",
       "      <td>2020</td>\n",
       "      <td>1009861</td>\n",
       "      <td>595348</td>\n",
       "    </tr>\n",
       "    <tr>\n",
       "      <th>4</th>\n",
       "      <td>0</td>\n",
       "      <td>0</td>\n",
       "      <td>2021</td>\n",
       "      <td>1013839</td>\n",
       "      <td>595348</td>\n",
       "    </tr>\n",
       "  </tbody>\n",
       "</table>\n",
       "</div>"
      ],
      "text/plain": [
       "   RACE_HISP  SEX  YEAR  TOTAL_NIM  NIM_LOW\n",
       "0          0    0  2017     996800   996800\n",
       "1          0    0  2018    1001528  1001528\n",
       "2          0    0  2019    1005801   595348\n",
       "3          0    0  2020    1009861   595348\n",
       "4          0    0  2021    1013839   595348"
      ]
     },
     "execution_count": 22,
     "metadata": {},
     "output_type": "execute_result"
    }
   ],
   "source": [
    "# create dataframe\n",
    "nim_short_df = pd.DataFrame(nim_short_df)\n",
    "\n",
    "# create new column with low NIM projected rates by freezing real-time \n",
    "# 2019 NIM rates of 595,348 for all years from 2019 to 2060. NIM rates for \n",
    "# before 2019 to be the same as historical rates. \n",
    "nim_short_df['NIM_LOW'] = np.where(nim_short_df['YEAR']>2018, 595348, nim_short_df['TOTAL_NIM'])\n",
    "nim_short_df.head()\n"
   ]
  },
  {
   "cell_type": "code",
   "execution_count": 23,
   "metadata": {},
   "outputs": [
    {
     "data": {
      "text/plain": [
       "Text(0.5, 1.0, 'Low NIM Scenario: NIM capped at 2019 levels')"
      ]
     },
     "execution_count": 23,
     "metadata": {},
     "output_type": "execute_result"
    },
    {
     "data": {
      "image/png": "[encoded data removed]",
      "text/plain": [
       "<Figure size 432x288 with 1 Axes>"
      ]
     },
     "metadata": {
      "needs_background": "light"
     },
     "output_type": "display_data"
    }
   ],
   "source": [
    "# plot with low NIM\n",
    "plt.plot(year,nim_short_df['NIM_LOW'])\n",
    "plt.title('Low NIM Scenario: NIM capped at 2019 levels')\n"
   ]
  },
  {
   "cell_type": "code",
   "execution_count": null,
   "metadata": {},
   "outputs": [],
   "source": []
  }
 ],
 "metadata": {
  "kernelspec": {
   "display_name": "Python 3",
   "language": "python",
   "name": "python3"
  },
  "language_info": {
   "codemirror_mode": {
    "name": "ipython",
    "version": 3
   },
   "file_extension": ".py",
   "mimetype": "text/x-python",
   "name": "python",
   "nbconvert_exporter": "python",
   "pygments_lexer": "ipython3",
   "version": "3.6.9"
  }
 },
 "nbformat": 4,
 "nbformat_minor": 2
}
