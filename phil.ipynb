{
 "cells": [
  {
   "cell_type": "code",
   "execution_count": 2,
   "metadata": {},
   "outputs": [],
   "source": [
    "# Dependencies\n",
    "import numpy as np\n",
    "import pandas as pd\n",
    "import matplotlib.pyplot as plt\n",
    "from census import Census\n",
    "import json\n",
    "import requests"
   ]
  },
  {
   "cell_type": "code",
   "execution_count": 5,
   "metadata": {},
   "outputs": [],
   "source": [
    "# Census API Key\n",
    "from env.config import api_key"
   ]
  },
  {
   "cell_type": "code",
   "execution_count": 23,
   "metadata": {},
   "outputs": [],
   "source": [
    "year='2014'\n",
    "dsource='pep'\n",
    "dname='projpop'\n",
    "cols='POP,YEAR'\n",
    "base_url = f'https://api.census.gov/data/{year}/{dsource}/{dname}'\n",
    "data_url = f'{base_url}?get={cols}&for=us:1&key={api_key}'\n",
    "response=requests.get(data_url)\n"
   ]
  },
  {
   "cell_type": "code",
   "execution_count": 24,
   "metadata": {},
   "outputs": [
    {
     "name": "stdout",
     "output_type": "stream",
     "text": [
      "200\n"
     ]
    }
   ],
   "source": [
    "# DEBUG Print status code\n",
    "print(response.status_code)\n"
   ]
  },
  {
   "cell_type": "code",
   "execution_count": 25,
   "metadata": {},
   "outputs": [
    {
     "name": "stdout",
     "output_type": "stream",
     "text": [
      "[[\"POP\",\"YEAR\",\"us\"],\n",
      "[\"318748017\",\"2014\",\"1\"],\n",
      "[\"321368864\",\"2015\",\"1\"],\n",
      "[\"323995528\",\"2016\",\"1\"],\n",
      "[\"326625791\",\"2017\",\"1\"],\n",
      "[\"329256465\",\"2018\",\"1\"],\n",
      "[\"331883986\",\"2019\",\"1\"],\n",
      "[\"334503458\",\"2020\",\"1\"],\n",
      "[\"337108968\",\"2021\",\"1\"],\n",
      "[\"339698079\",\"2022\",\"1\"],\n",
      "[\"342267302\",\"2023\",\"1\"],\n",
      "[\"344814299\",\"2024\",\"1\"],\n",
      "[\"347334912\",\"2025\",\"1\"],\n",
      "[\"349825585\",\"2026\",\"1\"],\n",
      "[\"352281475\",\"2027\",\"1\"],\n",
      "[\"354698370\",\"2028\",\"1\"],\n",
      "[\"357072830\",\"2029\",\"1\"],\n",
      "[\"359402194\",\"2030\",\"1\"],\n",
      "[\"361684740\",\"2031\",\"1\"],\n",
      "[\"363919527\",\"2032\",\"1\"],\n",
      "[\"366106294\",\"2033\",\"1\"],\n",
      "[\"368245560\",\"2034\",\"1\"],\n",
      "[\"370338137\",\"2035\",\"1\"],\n",
      "[\"372389679\",\"2036\",\"1\"],\n",
      "[\"374401359\",\"2037\",\"1\"],\n",
      "[\"376375103\",\"2038\",\"1\"],\n",
      "[\"378313410\",\"2039\",\"1\"],\n",
      "[\"380219202\",\"2040\",\"1\"],\n",
      "[\"382096402\",\"2041\",\"1\"],\n",
      "[\"383948648\",\"2042\",\"1\"],\n",
      "[\"385779465\",\"2043\",\"1\"],\n",
      "[\"387593232\",\"2044\",\"1\"],\n",
      "[\"389394178\",\"2045\",\"1\"],\n",
      "[\"391186552\",\"2046\",\"1\"],\n",
      "[\"392972619\",\"2047\",\"1\"],\n",
      "[\"394755870\",\"2048\",\"1\"],\n",
      "[\"396540072\",\"2049\",\"1\"],\n",
      "[\"398328349\",\"2050\",\"1\"],\n",
      "[\"400123782\",\"2051\",\"1\"],\n",
      "[\"401928705\",\"2052\",\"1\"],\n",
      "[\"403744486\",\"2053\",\"1\"],\n",
      "[\"405572155\",\"2054\",\"1\"],\n",
      "[\"407412129\",\"2055\",\"1\"],\n",
      "[\"409264954\",\"2056\",\"1\"],\n",
      "[\"411130259\",\"2057\",\"1\"],\n",
      "[\"413007559\",\"2058\",\"1\"],\n",
      "[\"414896215\",\"2059\",\"1\"],\n",
      "[\"416794610\",\"2060\",\"1\"]]\n"
     ]
    }
   ],
   "source": [
    "# DEBUG \n",
    "print(response.text)"
   ]
  },
  {
   "cell_type": "code",
   "execution_count": 13,
   "metadata": {},
   "outputs": [],
   "source": [
    "response_json = response.json()"
   ]
  },
  {
   "cell_type": "code",
   "execution_count": 19,
   "metadata": {},
   "outputs": [
    {
     "name": "stdout",
     "output_type": "stream",
     "text": [
      "The second response is \"1\".\n"
     ]
    }
   ],
   "source": [
    "# DEBUG\n",
    "print(f\"The second response is {json.dumps(response_json[1][0-1], indent=2)}.\")"
   ]
  },
  {
   "cell_type": "code",
   "execution_count": 16,
   "metadata": {},
   "outputs": [
    {
     "name": "stdout",
     "output_type": "stream",
     "text": [
      "The last response is [\n",
      "  \"416794610\",\n",
      "  \"2060\",\n",
      "  \"1\"\n",
      "].\n"
     ]
    }
   ],
   "source": [
    "# DEBUG\n",
    "print(f\"The last response is {json.dumps(response_json[-1], indent=2)}.\")"
   ]
  },
  {
   "cell_type": "code",
   "execution_count": 20,
   "metadata": {},
   "outputs": [],
   "source": [
    "year='2012'\n",
    "dsource='popproj'\n",
    "dname='pop'\n",
    "cols='TOTAL_POP,YEAR'\n",
    "base_url = f'https://api.census.gov/data/{year}/{dsource}/{dname}'\n",
    "data_url = f'{base_url}?get={cols}&key={api_key}'\n",
    "response=requests.get(data_url)"
   ]
  },
  {
   "cell_type": "code",
   "execution_count": 32,
   "metadata": {},
   "outputs": [
    {
     "name": "stdout",
     "output_type": "stream",
     "text": [
      "200\n"
     ]
    }
   ],
   "source": [
    "# DEBUG Print status code\n",
    "print(response.status_code)"
   ]
  },
  {
   "cell_type": "code",
   "execution_count": 21,
   "metadata": {},
   "outputs": [
    {
     "name": "stdout",
     "output_type": "stream",
     "text": [
      "[[\"TOTAL_POP\",\"YEAR\"],\n",
      "[\"314004465\",\"2012\"],\n",
      "[\"316438601\",\"2013\"],\n",
      "[\"318892103\",\"2014\"],\n",
      "[\"321362789\",\"2015\"],\n",
      "[\"323848670\",\"2016\"],\n",
      "[\"326347810\",\"2017\"],\n",
      "[\"328857432\",\"2018\"],\n",
      "[\"331374624\",\"2019\"],\n",
      "[\"333895553\",\"2020\"],\n",
      "[\"336415622\",\"2021\"],\n",
      "[\"338930372\",\"2022\"],\n",
      "[\"341436114\",\"2023\"],\n",
      "[\"343929455\",\"2024\"],\n",
      "[\"346407223\",\"2025\"],\n",
      "[\"348866536\",\"2026\"],\n",
      "[\"351304266\",\"2027\"],\n",
      "[\"353717879\",\"2028\"],\n",
      "[\"356106711\",\"2029\"],\n",
      "[\"358471142\",\"2030\"],\n",
      "[\"360791993\",\"2031\"],\n",
      "[\"363070056\",\"2032\"],\n",
      "[\"365306630\",\"2033\"],\n",
      "[\"367503433\",\"2034\"],\n",
      "[\"369662023\",\"2035\"],\n",
      "[\"371787679\",\"2036\"],\n",
      "[\"373882743\",\"2037\"],\n",
      "[\"375950191\",\"2038\"],\n",
      "[\"377993430\",\"2039\"],\n",
      "[\"380015683\",\"2040\"],\n",
      "[\"382020643\",\"2041\"],\n",
      "[\"384011614\",\"2042\"],\n",
      "[\"385991598\",\"2043\"],\n",
      "[\"387964875\",\"2044\"],\n",
      "[\"389934177\",\"2045\"],\n",
      "[\"391902214\",\"2046\"],\n",
      "[\"393869495\",\"2047\"],\n",
      "[\"395840616\",\"2048\"],\n",
      "[\"397817988\",\"2049\"],\n",
      "[\"399803369\",\"2050\"],\n",
      "[\"401796259\",\"2051\"],\n",
      "[\"403798190\",\"2052\"],\n",
      "[\"405810947\",\"2053\"],\n",
      "[\"407835317\",\"2054\"],\n",
      "[\"409872516\",\"2055\"],\n",
      "[\"411923475\",\"2056\"],\n",
      "[\"413988636\",\"2057\"],\n",
      "[\"416068021\",\"2058\"],\n",
      "[\"418161420\",\"2059\"],\n",
      "[\"420267733\",\"2060\"]]\n"
     ]
    }
   ],
   "source": [
    "# DEBUG \n",
    "print(response.text)"
   ]
  },
  {
   "cell_type": "code",
   "execution_count": 18,
   "metadata": {},
   "outputs": [],
   "source": [
    "#c = Census(api_key)\n",
    "#census_data = c.acs5.get((\"NAME\", \"B01003_001E\"), {'for': 'US:*', 'year' : '2017'})\n",
    "#census_df = pd.DataFrame(census_data)"
   ]
  },
  {
   "cell_type": "code",
   "execution_count": 19,
   "metadata": {},
   "outputs": [
    {
     "data": {
      "text/html": [
       "<div>\n",
       "<style scoped>\n",
       "    .dataframe tbody tr th:only-of-type {\n",
       "        vertical-align: middle;\n",
       "    }\n",
       "\n",
       "    .dataframe tbody tr th {\n",
       "        vertical-align: top;\n",
       "    }\n",
       "\n",
       "    .dataframe thead th {\n",
       "        text-align: right;\n",
       "    }\n",
       "</style>\n",
       "<table border=\"1\" class=\"dataframe\">\n",
       "  <thead>\n",
       "    <tr style=\"text-align: right;\">\n",
       "      <th></th>\n",
       "      <th>NAME</th>\n",
       "      <th>B01003_001E</th>\n",
       "      <th>us</th>\n",
       "    </tr>\n",
       "  </thead>\n",
       "  <tbody>\n",
       "    <tr>\n",
       "      <th>0</th>\n",
       "      <td>United States</td>\n",
       "      <td>321004407.0</td>\n",
       "      <td>1</td>\n",
       "    </tr>\n",
       "  </tbody>\n",
       "</table>\n",
       "</div>"
      ],
      "text/plain": [
       "            NAME  B01003_001E us\n",
       "0  United States  321004407.0  1"
      ]
     },
     "execution_count": 19,
     "metadata": {},
     "output_type": "execute_result"
    }
   ],
   "source": [
    "#census_df\n"
   ]
  },
  {
   "cell_type": "code",
   "execution_count": null,
   "metadata": {},
   "outputs": [],
   "source": []
  }
 ],
 "metadata": {
  "kernelspec": {
   "display_name": "Python 3",
   "language": "python",
   "name": "python3"
  },
  "language_info": {
   "codemirror_mode": {
    "name": "ipython",
    "version": 3
   },
   "file_extension": ".py",
   "mimetype": "text/x-python",
   "name": "python",
   "nbconvert_exporter": "python",
   "pygments_lexer": "ipython3",
   "version": "3.6.9"
  }
 },
 "nbformat": 4,
 "nbformat_minor": 2
}
