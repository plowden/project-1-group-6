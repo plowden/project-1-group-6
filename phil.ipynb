{
 "cells": [
  {
   "cell_type": "code",
   "execution_count": 1,
   "metadata": {},
   "outputs": [],
   "source": [
    "# Dependencies\n",
    "import pandas as pd\n",
    "import matplotlib.pyplot as plt\n",
    "import json\n",
    "import requests"
   ]
  },
  {
   "cell_type": "code",
   "execution_count": 2,
   "metadata": {},
   "outputs": [],
   "source": [
    "# Census API Key\n",
    "from env.config import api_key"
   ]
  },
  {
   "cell_type": "code",
   "execution_count": 3,
   "metadata": {},
   "outputs": [],
   "source": [
    "# Query 2014-2060 projected population\n",
    "year='2014'\n",
    "dsource='pep'\n",
    "dname='projpop'\n",
    "cols='POP,YEAR'\n",
    "base_url = f'https://api.census.gov/data/{year}/{dsource}/{dname}'\n",
    "data_url = f'{base_url}?get={cols}&for=us:1&key={api_key}'\n",
    "response=requests.get(data_url)"
   ]
  },
  {
   "cell_type": "code",
   "execution_count": 4,
   "metadata": {},
   "outputs": [
    {
     "name": "stdout",
     "output_type": "stream",
     "text": [
      "Sucess!\n"
     ]
    }
   ],
   "source": [
    "# Check status code\n",
    "if response.status_code != 200:\n",
    "    print (\"Error!\")\n",
    "else:\n",
    "    print (\"Sucess!\")\n",
    "    response_json = response.json()"
   ]
  },
  {
   "cell_type": "code",
   "execution_count": 5,
   "metadata": {},
   "outputs": [],
   "source": [
    "# Copy YEAR and POP lists from JSON response to new lists\n",
    "total_pop=[]\n",
    "year=[]\n",
    "for x in range(1,len(response_json)):\n",
    "    total_pop.append(int(response_json[x][0]))\n",
    "    year.append(int(response_json[x][1]))"
   ]
  },
  {
   "cell_type": "code",
   "execution_count": 6,
   "metadata": {},
   "outputs": [],
   "source": [
    "# Create growth rate list per year based on difference between year N+! and year 1. \n",
    "# The first two entries in the table are for 2014 and 2015. We use these to set\n",
    "# the initial growth rate and use it for the first entry in the growth_rate list,\n",
    "# which starts at year 2016, which is the first year for which we have projected populationg\n",
    "# data in the CSV file used by other code in this project.\n",
    "# Growth rate is essentially the first derivative; it shows the amount by which the population\n",
    "# is growing or shrinking year over year.\n",
    "\n",
    "growth_initial = total_pop[1] - total_pop[0]\n",
    "\n",
    "growth_rate = []\n",
    "\n",
    "avg_growth_rate = growth_initial\n",
    "\n",
    "for x in range(2,len(total_pop)):\n",
    "    if x == 2:\n",
    "        growth_rate.append(growth_initial)\n",
    "    else:\n",
    "        growth_rate.append(total_pop[x] - total_pop[x-1])\n",
    "    avg_growth_rate = int((avg_growth_rate + growth_rate[x-2])/2)\n",
    "\n",
    "# Now compute the growth rate change. This is essentially the second derivative; it shows\n",
    "# the amount by which the population growth is going up or down year over year.\n",
    "\n",
    "growth_rate_change = []\n",
    "avg_growth_rate_change = 0\n",
    "growth_rate_change_initial = growth_rate[0] - growth_rate[1]\n",
    "for x in range(0,len(growth_rate)):\n",
    "    if x == 0:\n",
    "        growth_rate_change.append(growth_rate_change_initial)\n",
    "    else:\n",
    "        growth_rate_change.append(growth_rate[x-1] - growth_rate[x])\n",
    "    avg_growth_rate_change = int((growth_rate_change[x-1] + growth_rate_change[x])/2)"
   ]
  },
  {
   "cell_type": "code",
   "execution_count": 7,
   "metadata": {},
   "outputs": [],
   "source": [
    "# Now that we have the growth rate and growth rate change lists, use these to create projected\n",
    "# population lists, i,e. the population itself and the corresponding years.\n",
    "\n",
    "proj_pop = total_pop.copy()\n",
    "proj_year = year.copy()\n",
    "\n",
    "new_growth_rate = avg_growth_rate\n",
    "while new_growth_rate > 0:\n",
    "    proj_year.append(proj_year[-1] + 1)\n",
    "    proj_pop.append(proj_pop[-1] + new_growth_rate)\n",
    "    new_growth_rate += avg_growth_rate_change   "
   ]
  },
  {
   "cell_type": "code",
   "execution_count": 8,
   "metadata": {},
   "outputs": [],
   "source": [
    "# Extend the data another 50 years so we can see the knee of the curve when\n",
    "# the rate of population change starts to go down because of the low TFR.\n",
    "for x in range(50):\n",
    "    proj_year.append(proj_year[-1] + 1)\n",
    "    proj_pop.append(proj_pop[-1] + new_growth_rate)\n",
    "    new_growth_rate += avg_growth_rate_change "
   ]
  },
  {
   "cell_type": "code",
   "execution_count": 9,
   "metadata": {},
   "outputs": [],
   "source": [
    "# Now reduce the population rates from 2019 on by the NIM change from 2018\n",
    "nim_decrease = 1001528 - 595348\n",
    "nim_total_pop = total_pop.copy()"
   ]
  },
  {
   "cell_type": "code",
   "execution_count": 10,
   "metadata": {},
   "outputs": [],
   "source": [
    "# Now create lists similar to the growth rate lists reflecting the change in NIM\n",
    "nim_growth_initial = nim_total_pop[1] - nim_total_pop[0]\n",
    "nim_growth_rate = []\n",
    "nim_avg_growth_rate = nim_growth_initial\n",
    "\n",
    "for x in range(0,len(nim_total_pop)):\n",
    "    if x == 0:\n",
    "        nim_growth_rate.append(nim_growth_initial)\n",
    "    else:\n",
    "        nim_growth_rate.append(nim_total_pop[x] - nim_total_pop[x-1] - nim_decrease)\n",
    "    nim_avg_growth_rate = int((nim_avg_growth_rate + nim_growth_rate[x-1])/2)\n",
    "\n",
    "nim_growth_rate_change = []\n",
    "nim_avg_growth_rate_change = 0\n",
    "nim_growth_rate_change_initial = nim_growth_rate[0] - nim_growth_rate[1]\n",
    "\n",
    "for x in range(0,len(nim_growth_rate)):\n",
    "    if x == 0:\n",
    "        nim_growth_rate_change.append(nim_growth_rate_change_initial)\n",
    "    else:\n",
    "        nim_growth_rate_change.append(nim_growth_rate[x-1] - nim_growth_rate[x])\n",
    "    nim_avg_growth_rate_change = int((nim_growth_rate_change[x-1] + nim_growth_rate_change[x])/2)"
   ]
  },
  {
   "cell_type": "code",
   "execution_count": 11,
   "metadata": {},
   "outputs": [],
   "source": [
    "# Apply the growth rate change to the projected population lists.\n",
    "nim_proj_pop = nim_total_pop.copy()\n",
    "nim_proj_year = year.copy()\n",
    "\n",
    "nim_new_growth_rate = nim_avg_growth_rate\n",
    "while nim_new_growth_rate > 0:\n",
    "    nim_proj_year.append(nim_proj_year[-1] + 1)\n",
    "    nim_proj_pop.append(nim_proj_pop[-1] + nim_new_growth_rate)\n",
    "    nim_new_growth_rate += nim_avg_growth_rate_change    "
   ]
  },
  {
   "cell_type": "code",
   "execution_count": 12,
   "metadata": {},
   "outputs": [],
   "source": [
    "# Extend the data another 50 years\n",
    "for x in range(50):\n",
    "    nim_proj_year.append(nim_proj_year[-1] + 1)\n",
    "    nim_proj_pop.append(nim_proj_pop[-1] + nim_new_growth_rate)\n",
    "    nim_new_growth_rate += nim_avg_growth_rate_change "
   ]
  },
  {
   "cell_type": "code",
   "execution_count": 13,
   "metadata": {},
   "outputs": [
    {
     "data": {
      "text/plain": [
       "<matplotlib.legend.Legend at 0x1154d3470>"
      ]
     },
     "execution_count": 13,
     "metadata": {},
     "output_type": "execute_result"
    },
    {
     "data": {
      "image/png": "[encoded data removed]",
      "text/plain": [
       "<Figure size 432x288 with 1 Axes>"
      ]
     },
     "metadata": {
      "needs_background": "light"
     },
     "output_type": "display_data"
    }
   ],
   "source": [
    "# plot data using line graph\n",
    "ax, fig = plt.subplots()\n",
    "plt.title('US Projected Population')\n",
    "plt.xlabel('Years')\n",
    "plt.ylabel('Population (100 Million)')\n",
    "current_nim = fig.plot(proj_year, proj_pop, color = \"blue\", label = \"Pre-2019 NIM\")\n",
    "low_nim = fig.plot(nim_proj_year, nim_proj_pop, color = \"red\", linestyle='dashed', label = \"2019 NIM\")\n",
    "plt.legend(loc=\"lower right\")"
   ]
  },
  {
   "cell_type": "code",
   "execution_count": 14,
   "metadata": {},
   "outputs": [],
   "source": [
    "ax.savefig(\"Resources/US_Projected_Population.png\")\n",
    "plt.show()"
   ]
  },
  {
   "cell_type": "code",
   "execution_count": null,
   "metadata": {},
   "outputs": [],
   "source": []
  }
 ],
 "metadata": {
  "kernelspec": {
   "display_name": "Python 3",
   "language": "python",
   "name": "python3"
  },
  "language_info": {
   "codemirror_mode": {
    "name": "ipython",
    "version": 3
   },
   "file_extension": ".py",
   "mimetype": "text/x-python",
   "name": "python",
   "nbconvert_exporter": "python",
   "pygments_lexer": "ipython3",
   "version": "3.6.9"
  }
 },
 "nbformat": 4,
 "nbformat_minor": 2
}
